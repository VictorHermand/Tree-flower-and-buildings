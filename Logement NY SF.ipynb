{
 "cells": [
  {
   "cell_type": "code",
   "execution_count": 44,
   "metadata": {
    "collapsed": true
   },
   "outputs": [],
   "source": [
    "#Let's get started\n",
    "from __future__ import print_function\n",
    "\n",
    "import os\n",
    "import subprocess\n",
    "\n",
    "import pandas as pd\n",
    "import numpy as np\n",
    "from sklearn.tree import DecisionTreeClassifier, export_graphviz"
   ]
  },
  {
   "cell_type": "code",
   "execution_count": 45,
   "metadata": {
    "collapsed": true
   },
   "outputs": [],
   "source": [
    "#I made this nice csv file because I am not sure how to import the data otherwise\n",
    "df = pd.read_csv(\"C:/Users/victo_000/Tree/Logement.csv\", index_col=0)"
   ]
  },
  {
   "cell_type": "code",
   "execution_count": 46,
   "metadata": {
    "collapsed": false
   },
   "outputs": [
    {
     "data": {
      "text/html": [
       "<div>\n",
       "<table border=\"1\" class=\"dataframe\">\n",
       "  <thead>\n",
       "    <tr style=\"text-align: right;\">\n",
       "      <th></th>\n",
       "      <th>Baths</th>\n",
       "      <th>Price</th>\n",
       "      <th>Year</th>\n",
       "      <th>Size</th>\n",
       "      <th>PriceperSize</th>\n",
       "      <th>elevation</th>\n",
       "      <th>Location</th>\n",
       "    </tr>\n",
       "    <tr>\n",
       "      <th>Beds</th>\n",
       "      <th></th>\n",
       "      <th></th>\n",
       "      <th></th>\n",
       "      <th></th>\n",
       "      <th></th>\n",
       "      <th></th>\n",
       "      <th></th>\n",
       "    </tr>\n",
       "  </thead>\n",
       "  <tbody>\n",
       "    <tr>\n",
       "      <th>2.0</th>\n",
       "      <td>1.0</td>\n",
       "      <td>999000</td>\n",
       "      <td>1960</td>\n",
       "      <td>1000</td>\n",
       "      <td>999</td>\n",
       "      <td>10</td>\n",
       "      <td>NY</td>\n",
       "    </tr>\n",
       "    <tr>\n",
       "      <th>2.0</th>\n",
       "      <td>2.0</td>\n",
       "      <td>2750000</td>\n",
       "      <td>2006</td>\n",
       "      <td>1418</td>\n",
       "      <td>1939</td>\n",
       "      <td>0</td>\n",
       "      <td>NY</td>\n",
       "    </tr>\n",
       "    <tr>\n",
       "      <th>2.0</th>\n",
       "      <td>2.0</td>\n",
       "      <td>1350000</td>\n",
       "      <td>1900</td>\n",
       "      <td>2150</td>\n",
       "      <td>628</td>\n",
       "      <td>9</td>\n",
       "      <td>NY</td>\n",
       "    </tr>\n",
       "  </tbody>\n",
       "</table>\n",
       "</div>"
      ],
      "text/plain": [
       "      Baths    Price  Year  Size  PriceperSize  elevation Location\n",
       "Beds                                                              \n",
       "2.0     1.0   999000  1960  1000           999         10       NY\n",
       "2.0     2.0  2750000  2006  1418          1939          0       NY\n",
       "2.0     2.0  1350000  1900  2150           628          9       NY"
      ]
     },
     "execution_count": 46,
     "metadata": {},
     "output_type": "execute_result"
    }
   ],
   "source": [
    "#I don't know why Beds looks odd but other then that, those are our data\n",
    "df.head(3)"
   ]
  },
  {
   "cell_type": "code",
   "execution_count": 47,
   "metadata": {
    "collapsed": false
   },
   "outputs": [
    {
     "name": "stdout",
     "output_type": "stream",
     "text": [
      "* Number of bath\n",
      "[  1.    2.    3.    1.5   5.    4.   10.    7.    2.5   2.3   1.3   3.5\n",
      "   4.5   6.    5.5   6.5]\n"
     ]
    }
   ],
   "source": [
    "#Let's see how variable \n",
    "print(\"* Number of bath\", df[\"Baths\"].unique(), sep=\"\\n\")"
   ]
  },
  {
   "cell_type": "code",
   "execution_count": 48,
   "metadata": {
    "collapsed": false
   },
   "outputs": [],
   "source": [
    "#Ok on commence a par arranger un peu tout ca pour préparer l'analyse\n",
    "def encode_target(df, target_column):\n",
    "    df_mod = df.copy()\n",
    "    targets = df_mod[target_column].unique()\n",
    "    map_to_int = {Location: n for n, Location in enumerate(targets)}\n",
    "    df_mod[\"Target\"] = df_mod[target_column].replace(map_to_int)\n",
    "\n",
    "    return (df_mod, targets)"
   ]
  },
  {
   "cell_type": "code",
   "execution_count": 49,
   "metadata": {
    "collapsed": false
   },
   "outputs": [
    {
     "name": "stdout",
     "output_type": "stream",
     "text": [
      "* df2.head()\n",
      "      Target Location\n",
      "Beds                 \n",
      "2.0        0       NY\n",
      "2.0        0       NY\n",
      "2.0        0       NY\n",
      "1.0        0       NY\n",
      "0.0        0       NY\n",
      "\n",
      "* df2.tail()\n",
      "      Target Location\n",
      "Beds                 \n",
      "5.0        1       SF\n",
      "2.0        1       SF\n",
      "3.0        1       SF\n",
      "1.0        1       SF\n",
      "3.0        1       SF\n",
      "\n",
      "* targets\n",
      "['NY' 'SF']\n",
      "\n"
     ]
    }
   ],
   "source": [
    "#Je pense qu'on est presque pret, voyons ce que ca donne\n",
    "df2, targets = encode_target(df, \"Location\")\n",
    "print(\"* df2.head()\", df2[[\"Target\", \"Location\"]].head(),sep=\"\\n\", end=\"\\n\\n\")\n",
    "print(\"* df2.tail()\", df2[[\"Target\", \"Location\"]].tail(),sep=\"\\n\", end=\"\\n\\n\")\n",
    "print(\"* targets\", targets, sep=\"\\n\", end=\"\\n\\n\")"
   ]
  },
  {
   "cell_type": "code",
   "execution_count": 40,
   "metadata": {
    "collapsed": false
   },
   "outputs": [
    {
     "name": "stdout",
     "output_type": "stream",
     "text": [
      "* features:\n",
      "['Baths', 'Price', 'Year', 'Size']\n"
     ]
    }
   ],
   "source": [
    "#Et aussi\n",
    "features = list(df2.columns[:4])\n",
    "print(\"* features:\", features, sep=\"\\n\")"
   ]
  },
  {
   "cell_type": "code",
   "execution_count": 41,
   "metadata": {
    "collapsed": false
   },
   "outputs": [
    {
     "data": {
      "text/plain": [
       "DecisionTreeClassifier(class_weight=None, criterion='gini', max_depth=None,\n",
       "            max_features=None, max_leaf_nodes=None, min_samples_leaf=1,\n",
       "            min_samples_split=20, min_weight_fraction_leaf=0.0,\n",
       "            presort=False, random_state=99, splitter='best')"
      ]
     },
     "execution_count": 41,
     "metadata": {},
     "output_type": "execute_result"
    }
   ],
   "source": [
    "#On fait notre petit arbre comme ca\n",
    "y = df2[\"Target\"]\n",
    "X = df2[features]\n",
    "dt = DecisionTreeClassifier(min_samples_split=20, random_state=99)\n",
    "dt.fit(X, y)"
   ]
  },
  {
   "cell_type": "code",
   "execution_count": 42,
   "metadata": {
    "collapsed": true
   },
   "outputs": [],
   "source": [
    "# Et après\n",
    "def get_code(tree, feature_names, target_names,\n",
    "             spacer_base=\"    \"):\n",
    "    left      = tree.tree_.children_left\n",
    "    right     = tree.tree_.children_right\n",
    "    threshold = tree.tree_.threshold\n",
    "    features  = [feature_names[i] for i in tree.tree_.feature]\n",
    "    value = tree.tree_.value\n",
    "\n",
    "    def recurse(left, right, threshold, features, node, depth):\n",
    "        spacer = spacer_base * depth\n",
    "        if (threshold[node] != -2):\n",
    "            print(spacer + \"if ( \" + features[node] + \" <= \" + \\\n",
    "                  str(threshold[node]) + \" ) {\")\n",
    "            if left[node] != -1:\n",
    "                    recurse(left, right, threshold, features,\n",
    "                            left[node], depth+1)\n",
    "            print(spacer + \"}\\n\" + spacer +\"else {\")\n",
    "            if right[node] != -1:\n",
    "                    recurse(left, right, threshold, features,\n",
    "                            right[node], depth+1)\n",
    "            print(spacer + \"}\")\n",
    "        else:\n",
    "            target = value[node]\n",
    "            for i, v in zip(np.nonzero(target)[1],\n",
    "                            target[np.nonzero(target)]):\n",
    "                target_name = target_names[i]\n",
    "                target_count = int(v)\n",
    "                print(spacer + \"return \" + str(target_name) + \\\n",
    "                      \" ( \" + str(target_count) + \" examples )\")\n",
    "\n",
    "    recurse(left, right, threshold, features, 0, 0)"
   ]
  },
  {
   "cell_type": "code",
   "execution_count": 43,
   "metadata": {
    "collapsed": false
   },
   "outputs": [
    {
     "name": "stdout",
     "output_type": "stream",
     "text": [
      "if ( Size <= 804.0 ) {\n",
      "    if ( Price <= 830000.0 ) {\n",
      "        if ( Size <= 593.0 ) {\n",
      "            if ( Year <= 2013.5 ) {\n",
      "                if ( Year <= 1901.0 ) {\n",
      "                    return NY ( 3 examples )\n",
      "                    return SF ( 2 examples )\n",
      "                }\n",
      "                else {\n",
      "                    if ( Year <= 1996.5 ) {\n",
      "                        return NY ( 26 examples )\n",
      "                    }\n",
      "                    else {\n",
      "                        return NY ( 3 examples )\n",
      "                        return SF ( 1 examples )\n",
      "                    }\n",
      "                }\n",
      "            }\n",
      "            else {\n",
      "                return SF ( 1 examples )\n",
      "            }\n",
      "        }\n",
      "        else {\n",
      "            if ( Size <= 697.0 ) {\n",
      "                return NY ( 4 examples )\n",
      "                return SF ( 15 examples )\n",
      "            }\n",
      "            else {\n",
      "                if ( Year <= 1965.5 ) {\n",
      "                    if ( Price <= 788500.0 ) {\n",
      "                        return NY ( 16 examples )\n",
      "                        return SF ( 3 examples )\n",
      "                    }\n",
      "                    else {\n",
      "                        return SF ( 2 examples )\n",
      "                    }\n",
      "                }\n",
      "                else {\n",
      "                    return NY ( 2 examples )\n",
      "                    return SF ( 8 examples )\n",
      "                }\n",
      "            }\n",
      "        }\n",
      "    }\n",
      "    else {\n",
      "        if ( Year <= 1910.0 ) {\n",
      "            return SF ( 1 examples )\n",
      "        }\n",
      "        else {\n",
      "            return NY ( 29 examples )\n",
      "        }\n",
      "    }\n",
      "}\n",
      "else {\n",
      "    if ( Price <= 1698500.0 ) {\n",
      "        if ( Size <= 1237.5 ) {\n",
      "            if ( Price <= 897000.0 ) {\n",
      "                if ( Price <= 624000.0 ) {\n",
      "                    return NY ( 5 examples )\n",
      "                    return SF ( 6 examples )\n",
      "                }\n",
      "                else {\n",
      "                    if ( Size <= 862.5 ) {\n",
      "                        return NY ( 1 examples )\n",
      "                        return SF ( 7 examples )\n",
      "                    }\n",
      "                    else {\n",
      "                        return SF ( 35 examples )\n",
      "                    }\n",
      "                }\n",
      "            }\n",
      "            else {\n",
      "                if ( Year <= 1975.5 ) {\n",
      "                    if ( Size <= 1096.5 ) {\n",
      "                        return NY ( 13 examples )\n",
      "                    }\n",
      "                    else {\n",
      "                        return NY ( 5 examples )\n",
      "                        return SF ( 3 examples )\n",
      "                    }\n",
      "                }\n",
      "                else {\n",
      "                    return NY ( 6 examples )\n",
      "                    return SF ( 11 examples )\n",
      "                }\n",
      "            }\n",
      "        }\n",
      "        else {\n",
      "            if ( Price <= 1344500.0 ) {\n",
      "                if ( Year <= 1921.0 ) {\n",
      "                    if ( Year <= 1919.0 ) {\n",
      "                        return SF ( 20 examples )\n",
      "                    }\n",
      "                    else {\n",
      "                        return NY ( 2 examples )\n",
      "                    }\n",
      "                }\n",
      "                else {\n",
      "                    if ( Price <= 1224500.0 ) {\n",
      "                        return SF ( 59 examples )\n",
      "                    }\n",
      "                    else {\n",
      "                        return NY ( 1 examples )\n",
      "                        return SF ( 9 examples )\n",
      "                    }\n",
      "                }\n",
      "            }\n",
      "            else {\n",
      "                if ( Size <= 1441.5 ) {\n",
      "                    return NY ( 5 examples )\n",
      "                    return SF ( 2 examples )\n",
      "                }\n",
      "                else {\n",
      "                    if ( Price <= 1357500.0 ) {\n",
      "                        return NY ( 1 examples )\n",
      "                    }\n",
      "                    else {\n",
      "                        if ( Size <= 1603.5 ) {\n",
      "                            return NY ( 1 examples )\n",
      "                            return SF ( 6 examples )\n",
      "                        }\n",
      "                        else {\n",
      "                            return SF ( 24 examples )\n",
      "                        }\n",
      "                    }\n",
      "                }\n",
      "            }\n",
      "        }\n",
      "    }\n",
      "    else {\n",
      "        if ( Size <= 1753.0 ) {\n",
      "            if ( Size <= 1245.0 ) {\n",
      "                return NY ( 19 examples )\n",
      "            }\n",
      "            else {\n",
      "                if ( Size <= 1329.0 ) {\n",
      "                    return NY ( 3 examples )\n",
      "                    return SF ( 4 examples )\n",
      "                }\n",
      "                else {\n",
      "                    if ( Price <= 2012500.0 ) {\n",
      "                        return NY ( 8 examples )\n",
      "                        return SF ( 4 examples )\n",
      "                    }\n",
      "                    else {\n",
      "                        if ( Size <= 1626.0 ) {\n",
      "                            return NY ( 16 examples )\n",
      "                        }\n",
      "                        else {\n",
      "                            return NY ( 9 examples )\n",
      "                            return SF ( 1 examples )\n",
      "                        }\n",
      "                    }\n",
      "                }\n",
      "            }\n",
      "        }\n",
      "        else {\n",
      "            if ( Price <= 2599500.0 ) {\n",
      "                if ( Size <= 3954.5 ) {\n",
      "                    if ( Price <= 2045000.0 ) {\n",
      "                        return SF ( 16 examples )\n",
      "                    }\n",
      "                    else {\n",
      "                        return NY ( 2 examples )\n",
      "                        return SF ( 8 examples )\n",
      "                    }\n",
      "                }\n",
      "                else {\n",
      "                    return NY ( 1 examples )\n",
      "                }\n",
      "            }\n",
      "            else {\n",
      "                if ( Year <= 2014.5 ) {\n",
      "                    if ( Size <= 3310.5 ) {\n",
      "                        if ( Year <= 2007.5 ) {\n",
      "                            if ( Year <= 1903.0 ) {\n",
      "                                return NY ( 3 examples )\n",
      "                                return SF ( 3 examples )\n",
      "                            }\n",
      "                            else {\n",
      "                                return NY ( 16 examples )\n",
      "                                return SF ( 1 examples )\n",
      "                            }\n",
      "                        }\n",
      "                        else {\n",
      "                            return SF ( 2 examples )\n",
      "                        }\n",
      "                    }\n",
      "                    else {\n",
      "                        if ( Price <= 7445000.0 ) {\n",
      "                            return SF ( 12 examples )\n",
      "                        }\n",
      "                        else {\n",
      "                            return NY ( 7 examples )\n",
      "                            return SF ( 2 examples )\n",
      "                        }\n",
      "                    }\n",
      "                }\n",
      "                else {\n",
      "                    return NY ( 17 examples )\n",
      "                }\n",
      "            }\n",
      "        }\n",
      "    }\n",
      "}\n"
     ]
    }
   ],
   "source": [
    "#Résultat (pas joli pcq je peux pas visualiser sous Windows => sad)\n",
    "get_code(dt, features, targets)"
   ]
  },
  {
   "cell_type": "code",
   "execution_count": null,
   "metadata": {
    "collapsed": true
   },
   "outputs": [],
   "source": []
  }
 ],
 "metadata": {
  "kernelspec": {
   "display_name": "Python [Root]",
   "language": "python",
   "name": "Python [Root]"
  },
  "language_info": {
   "codemirror_mode": {
    "name": "ipython",
    "version": 3
   },
   "file_extension": ".py",
   "mimetype": "text/x-python",
   "name": "python",
   "nbconvert_exporter": "python",
   "pygments_lexer": "ipython3",
   "version": "3.5.2"
  }
 },
 "nbformat": 4,
 "nbformat_minor": 0
}
